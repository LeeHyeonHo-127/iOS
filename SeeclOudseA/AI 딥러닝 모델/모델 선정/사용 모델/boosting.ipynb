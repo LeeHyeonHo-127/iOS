{
 "cells": [
  {
   "cell_type": "code",
   "execution_count": 1,
   "id": "0ae7968e",
   "metadata": {},
   "outputs": [],
   "source": [
    "import pandas as pd\n",
    "import numpy as np\n",
    "from sklearn import metrics\n",
    "from sklearn.metrics import confusion_matrix\n",
    "from sklearn.metrics import accuracy_score, roc_auc_score, roc_curve\n",
    "import statsmodels.api as sm\n",
    "import matplotlib.pyplot as plt"
   ]
  },
  {
   "cell_type": "code",
   "execution_count": 2,
   "id": "fe2c4802",
   "metadata": {},
   "outputs": [
    {
     "data": {
      "text/html": [
       "<div>\n",
       "<style scoped>\n",
       "    .dataframe tbody tr th:only-of-type {\n",
       "        vertical-align: middle;\n",
       "    }\n",
       "\n",
       "    .dataframe tbody tr th {\n",
       "        vertical-align: top;\n",
       "    }\n",
       "\n",
       "    .dataframe thead th {\n",
       "        text-align: right;\n",
       "    }\n",
       "</style>\n",
       "<table border=\"1\" class=\"dataframe\">\n",
       "  <thead>\n",
       "    <tr style=\"text-align: right;\">\n",
       "      <th></th>\n",
       "      <th>title</th>\n",
       "      <th>link</th>\n",
       "      <th>mountain</th>\n",
       "      <th>upload_to</th>\n",
       "      <th>운해 여부</th>\n",
       "      <th>위치</th>\n",
       "      <th>전날 기온</th>\n",
       "      <th>전날 강수량</th>\n",
       "      <th>전날 습도</th>\n",
       "      <th>전날 기압</th>\n",
       "      <th>일출 기온</th>\n",
       "      <th>일출 풍속</th>\n",
       "      <th>일출 습도</th>\n",
       "      <th>일출 기압</th>\n",
       "      <th>일출 전운량</th>\n",
       "      <th>일교차</th>\n",
       "    </tr>\n",
       "  </thead>\n",
       "  <tbody>\n",
       "    <tr>\n",
       "      <th>0</th>\n",
       "      <td>오늘 일출과 운해</td>\n",
       "      <td>https://cafe.naver.com/windstopper/ArticleRead...</td>\n",
       "      <td>[‘심항산’]</td>\n",
       "      <td>20230508.0</td>\n",
       "      <td>1.0</td>\n",
       "      <td>충주</td>\n",
       "      <td>5.8</td>\n",
       "      <td>0.0</td>\n",
       "      <td>84.0</td>\n",
       "      <td>1001.4</td>\n",
       "      <td>3.2</td>\n",
       "      <td>0.0</td>\n",
       "      <td>93.0</td>\n",
       "      <td>1003.0</td>\n",
       "      <td>0.0</td>\n",
       "      <td>-2.6</td>\n",
       "    </tr>\n",
       "    <tr>\n",
       "      <th>1</th>\n",
       "      <td>노동절 새벽, 월출산의 운해일출</td>\n",
       "      <td>https://cafe.naver.com/windstopper/ArticleRead...</td>\n",
       "      <td>['월출산']</td>\n",
       "      <td>20230501.0</td>\n",
       "      <td>1.0</td>\n",
       "      <td>강진</td>\n",
       "      <td>8.9</td>\n",
       "      <td>0.0</td>\n",
       "      <td>91.0</td>\n",
       "      <td>1012.2</td>\n",
       "      <td>9.3</td>\n",
       "      <td>0.8</td>\n",
       "      <td>92.0</td>\n",
       "      <td>1012.4</td>\n",
       "      <td>7.0</td>\n",
       "      <td>0.4</td>\n",
       "    </tr>\n",
       "    <tr>\n",
       "      <th>2</th>\n",
       "      <td>백운대 일출산행(feat. 운해사냥)</td>\n",
       "      <td>https://cafe.naver.com/windstopper/ArticleRead...</td>\n",
       "      <td>[‘북한산']</td>\n",
       "      <td>20230501.0</td>\n",
       "      <td>1.0</td>\n",
       "      <td>서울</td>\n",
       "      <td>12.1</td>\n",
       "      <td>0.0</td>\n",
       "      <td>87.0</td>\n",
       "      <td>1001.3</td>\n",
       "      <td>10.1</td>\n",
       "      <td>2.4</td>\n",
       "      <td>91.0</td>\n",
       "      <td>1002.7</td>\n",
       "      <td>7.0</td>\n",
       "      <td>-2.0</td>\n",
       "    </tr>\n",
       "    <tr>\n",
       "      <th>3</th>\n",
       "      <td>백운대 운해사냥성공(thanks to또민아빠님)</td>\n",
       "      <td>https://cafe.naver.com/windstopper/ArticleRead...</td>\n",
       "      <td>[‘북한산']</td>\n",
       "      <td>20230430.0</td>\n",
       "      <td>1.0</td>\n",
       "      <td>서울</td>\n",
       "      <td>10.0</td>\n",
       "      <td>0.0</td>\n",
       "      <td>83.0</td>\n",
       "      <td>998.3</td>\n",
       "      <td>7.9</td>\n",
       "      <td>2.5</td>\n",
       "      <td>87.0</td>\n",
       "      <td>998.9</td>\n",
       "      <td>0.0</td>\n",
       "      <td>-2.1</td>\n",
       "    </tr>\n",
       "    <tr>\n",
       "      <th>4</th>\n",
       "      <td>지금 이 순간(역대급 제비봉 운해)</td>\n",
       "      <td>https://cafe.naver.com/windstopper/ArticleRead...</td>\n",
       "      <td>[‘제비봉’]</td>\n",
       "      <td>20230427.0</td>\n",
       "      <td>1.0</td>\n",
       "      <td>제천</td>\n",
       "      <td>1.7</td>\n",
       "      <td>0.0</td>\n",
       "      <td>100.0</td>\n",
       "      <td>987.3</td>\n",
       "      <td>-0.3</td>\n",
       "      <td>0.0</td>\n",
       "      <td>100.0</td>\n",
       "      <td>989.1</td>\n",
       "      <td>10.0</td>\n",
       "      <td>-2.0</td>\n",
       "    </tr>\n",
       "  </tbody>\n",
       "</table>\n",
       "</div>"
      ],
      "text/plain": [
       "                        title  \\\n",
       "0                   오늘 일출과 운해   \n",
       "1           노동절 새벽, 월출산의 운해일출   \n",
       "2        백운대 일출산행(feat. 운해사냥)   \n",
       "3  백운대 운해사냥성공(thanks to또민아빠님)   \n",
       "4         지금 이 순간(역대급 제비봉 운해)   \n",
       "\n",
       "                                                link mountain   upload_to  \\\n",
       "0  https://cafe.naver.com/windstopper/ArticleRead...  [‘심항산’]  20230508.0   \n",
       "1  https://cafe.naver.com/windstopper/ArticleRead...  ['월출산']  20230501.0   \n",
       "2  https://cafe.naver.com/windstopper/ArticleRead...  [‘북한산']  20230501.0   \n",
       "3  https://cafe.naver.com/windstopper/ArticleRead...  [‘북한산']  20230430.0   \n",
       "4  https://cafe.naver.com/windstopper/ArticleRead...  [‘제비봉’]  20230427.0   \n",
       "\n",
       "   운해 여부  위치  전날 기온  전날 강수량  전날 습도   전날 기압  일출 기온  일출 풍속  일출 습도   일출 기압  \\\n",
       "0    1.0  충주    5.8     0.0   84.0  1001.4    3.2    0.0   93.0  1003.0   \n",
       "1    1.0  강진    8.9     0.0   91.0  1012.2    9.3    0.8   92.0  1012.4   \n",
       "2    1.0  서울   12.1     0.0   87.0  1001.3   10.1    2.4   91.0  1002.7   \n",
       "3    1.0  서울   10.0     0.0   83.0   998.3    7.9    2.5   87.0   998.9   \n",
       "4    1.0  제천    1.7     0.0  100.0   987.3   -0.3    0.0  100.0   989.1   \n",
       "\n",
       "   일출 전운량  일교차  \n",
       "0     0.0 -2.6  \n",
       "1     7.0  0.4  \n",
       "2     7.0 -2.0  \n",
       "3     0.0 -2.1  \n",
       "4    10.0 -2.0  "
      ]
     },
     "execution_count": 2,
     "metadata": {},
     "output_type": "execute_result"
    }
   ],
   "source": [
    "df=pd.read_csv('final_crawled_api_data.csv')\n",
    "df.head()"
   ]
  },
  {
   "cell_type": "code",
   "execution_count": 3,
   "id": "36500737",
   "metadata": {},
   "outputs": [
    {
     "data": {
      "text/html": [
       "<div>\n",
       "<style scoped>\n",
       "    .dataframe tbody tr th:only-of-type {\n",
       "        vertical-align: middle;\n",
       "    }\n",
       "\n",
       "    .dataframe tbody tr th {\n",
       "        vertical-align: top;\n",
       "    }\n",
       "\n",
       "    .dataframe thead th {\n",
       "        text-align: right;\n",
       "    }\n",
       "</style>\n",
       "<table border=\"1\" class=\"dataframe\">\n",
       "  <thead>\n",
       "    <tr style=\"text-align: right;\">\n",
       "      <th></th>\n",
       "      <th>운해 여부</th>\n",
       "      <th>전날 기온</th>\n",
       "      <th>전날 강수량</th>\n",
       "      <th>전날 습도</th>\n",
       "      <th>전날 기압</th>\n",
       "      <th>일출 기온</th>\n",
       "      <th>일출 풍속</th>\n",
       "      <th>일출 습도</th>\n",
       "      <th>일출 기압</th>\n",
       "      <th>일출 전운량</th>\n",
       "      <th>일교차</th>\n",
       "    </tr>\n",
       "  </thead>\n",
       "  <tbody>\n",
       "    <tr>\n",
       "      <th>0</th>\n",
       "      <td>1.0</td>\n",
       "      <td>5.8</td>\n",
       "      <td>0.0</td>\n",
       "      <td>84.0</td>\n",
       "      <td>1001.4</td>\n",
       "      <td>3.2</td>\n",
       "      <td>0.0</td>\n",
       "      <td>93.0</td>\n",
       "      <td>1003.0</td>\n",
       "      <td>0.0</td>\n",
       "      <td>-2.6</td>\n",
       "    </tr>\n",
       "    <tr>\n",
       "      <th>1</th>\n",
       "      <td>1.0</td>\n",
       "      <td>8.9</td>\n",
       "      <td>0.0</td>\n",
       "      <td>91.0</td>\n",
       "      <td>1012.2</td>\n",
       "      <td>9.3</td>\n",
       "      <td>0.8</td>\n",
       "      <td>92.0</td>\n",
       "      <td>1012.4</td>\n",
       "      <td>7.0</td>\n",
       "      <td>0.4</td>\n",
       "    </tr>\n",
       "    <tr>\n",
       "      <th>2</th>\n",
       "      <td>1.0</td>\n",
       "      <td>12.1</td>\n",
       "      <td>0.0</td>\n",
       "      <td>87.0</td>\n",
       "      <td>1001.3</td>\n",
       "      <td>10.1</td>\n",
       "      <td>2.4</td>\n",
       "      <td>91.0</td>\n",
       "      <td>1002.7</td>\n",
       "      <td>7.0</td>\n",
       "      <td>-2.0</td>\n",
       "    </tr>\n",
       "    <tr>\n",
       "      <th>3</th>\n",
       "      <td>1.0</td>\n",
       "      <td>10.0</td>\n",
       "      <td>0.0</td>\n",
       "      <td>83.0</td>\n",
       "      <td>998.3</td>\n",
       "      <td>7.9</td>\n",
       "      <td>2.5</td>\n",
       "      <td>87.0</td>\n",
       "      <td>998.9</td>\n",
       "      <td>0.0</td>\n",
       "      <td>-2.1</td>\n",
       "    </tr>\n",
       "    <tr>\n",
       "      <th>4</th>\n",
       "      <td>1.0</td>\n",
       "      <td>1.7</td>\n",
       "      <td>0.0</td>\n",
       "      <td>100.0</td>\n",
       "      <td>987.3</td>\n",
       "      <td>-0.3</td>\n",
       "      <td>0.0</td>\n",
       "      <td>100.0</td>\n",
       "      <td>989.1</td>\n",
       "      <td>10.0</td>\n",
       "      <td>-2.0</td>\n",
       "    </tr>\n",
       "    <tr>\n",
       "      <th>...</th>\n",
       "      <td>...</td>\n",
       "      <td>...</td>\n",
       "      <td>...</td>\n",
       "      <td>...</td>\n",
       "      <td>...</td>\n",
       "      <td>...</td>\n",
       "      <td>...</td>\n",
       "      <td>...</td>\n",
       "      <td>...</td>\n",
       "      <td>...</td>\n",
       "      <td>...</td>\n",
       "    </tr>\n",
       "    <tr>\n",
       "      <th>802</th>\n",
       "      <td>0.0</td>\n",
       "      <td>-10.8</td>\n",
       "      <td>0.0</td>\n",
       "      <td>89.0</td>\n",
       "      <td>941.9</td>\n",
       "      <td>-13.1</td>\n",
       "      <td>0.3</td>\n",
       "      <td>87.0</td>\n",
       "      <td>941.8</td>\n",
       "      <td>0.0</td>\n",
       "      <td>-2.3</td>\n",
       "    </tr>\n",
       "    <tr>\n",
       "      <th>803</th>\n",
       "      <td>0.0</td>\n",
       "      <td>-4.5</td>\n",
       "      <td>0.0</td>\n",
       "      <td>61.0</td>\n",
       "      <td>1008.7</td>\n",
       "      <td>-7.0</td>\n",
       "      <td>0.6</td>\n",
       "      <td>72.0</td>\n",
       "      <td>1008.7</td>\n",
       "      <td>0.0</td>\n",
       "      <td>-2.5</td>\n",
       "    </tr>\n",
       "    <tr>\n",
       "      <th>804</th>\n",
       "      <td>0.0</td>\n",
       "      <td>8.5</td>\n",
       "      <td>0.0</td>\n",
       "      <td>76.0</td>\n",
       "      <td>1015.7</td>\n",
       "      <td>7.7</td>\n",
       "      <td>0.3</td>\n",
       "      <td>85.0</td>\n",
       "      <td>1015.7</td>\n",
       "      <td>0.0</td>\n",
       "      <td>-0.8</td>\n",
       "    </tr>\n",
       "    <tr>\n",
       "      <th>805</th>\n",
       "      <td>0.0</td>\n",
       "      <td>-5.0</td>\n",
       "      <td>0.0</td>\n",
       "      <td>73.0</td>\n",
       "      <td>1009.7</td>\n",
       "      <td>-5.8</td>\n",
       "      <td>0.0</td>\n",
       "      <td>83.0</td>\n",
       "      <td>1009.7</td>\n",
       "      <td>0.0</td>\n",
       "      <td>-0.8</td>\n",
       "    </tr>\n",
       "    <tr>\n",
       "      <th>806</th>\n",
       "      <td>NaN</td>\n",
       "      <td>NaN</td>\n",
       "      <td>NaN</td>\n",
       "      <td>NaN</td>\n",
       "      <td>NaN</td>\n",
       "      <td>NaN</td>\n",
       "      <td>NaN</td>\n",
       "      <td>NaN</td>\n",
       "      <td>NaN</td>\n",
       "      <td>NaN</td>\n",
       "      <td>NaN</td>\n",
       "    </tr>\n",
       "  </tbody>\n",
       "</table>\n",
       "<p>807 rows × 11 columns</p>\n",
       "</div>"
      ],
      "text/plain": [
       "     운해 여부  전날 기온  전날 강수량  전날 습도   전날 기압  일출 기온  일출 풍속  일출 습도   일출 기압  일출 전운량  \\\n",
       "0      1.0    5.8     0.0   84.0  1001.4    3.2    0.0   93.0  1003.0     0.0   \n",
       "1      1.0    8.9     0.0   91.0  1012.2    9.3    0.8   92.0  1012.4     7.0   \n",
       "2      1.0   12.1     0.0   87.0  1001.3   10.1    2.4   91.0  1002.7     7.0   \n",
       "3      1.0   10.0     0.0   83.0   998.3    7.9    2.5   87.0   998.9     0.0   \n",
       "4      1.0    1.7     0.0  100.0   987.3   -0.3    0.0  100.0   989.1    10.0   \n",
       "..     ...    ...     ...    ...     ...    ...    ...    ...     ...     ...   \n",
       "802    0.0  -10.8     0.0   89.0   941.9  -13.1    0.3   87.0   941.8     0.0   \n",
       "803    0.0   -4.5     0.0   61.0  1008.7   -7.0    0.6   72.0  1008.7     0.0   \n",
       "804    0.0    8.5     0.0   76.0  1015.7    7.7    0.3   85.0  1015.7     0.0   \n",
       "805    0.0   -5.0     0.0   73.0  1009.7   -5.8    0.0   83.0  1009.7     0.0   \n",
       "806    NaN    NaN     NaN    NaN     NaN    NaN    NaN    NaN     NaN     NaN   \n",
       "\n",
       "     일교차  \n",
       "0   -2.6  \n",
       "1    0.4  \n",
       "2   -2.0  \n",
       "3   -2.1  \n",
       "4   -2.0  \n",
       "..   ...  \n",
       "802 -2.3  \n",
       "803 -2.5  \n",
       "804 -0.8  \n",
       "805 -0.8  \n",
       "806  NaN  \n",
       "\n",
       "[807 rows x 11 columns]"
      ]
     },
     "execution_count": 3,
     "metadata": {},
     "output_type": "execute_result"
    }
   ],
   "source": [
    "df=df.drop(['title', 'link', 'upload_to', 'mountain', '위치'],axis=1)\n",
    "df"
   ]
  },
  {
   "cell_type": "code",
   "execution_count": 4,
   "id": "664470d6",
   "metadata": {},
   "outputs": [],
   "source": [
    "df=df.dropna()"
   ]
  },
  {
   "cell_type": "code",
   "execution_count": 5,
   "id": "274f7be4",
   "metadata": {},
   "outputs": [
    {
     "name": "stdout",
     "output_type": "stream",
     "text": [
      "<class 'pandas.core.frame.DataFrame'>\n",
      "Int64Index: 804 entries, 0 to 805\n",
      "Data columns (total 11 columns):\n",
      " #   Column  Non-Null Count  Dtype  \n",
      "---  ------  --------------  -----  \n",
      " 0   운해 여부   804 non-null    float64\n",
      " 1   전날 기온   804 non-null    float64\n",
      " 2   전날 강수량  804 non-null    float64\n",
      " 3   전날 습도   804 non-null    float64\n",
      " 4   전날 기압   804 non-null    float64\n",
      " 5   일출 기온   804 non-null    float64\n",
      " 6   일출 풍속   804 non-null    float64\n",
      " 7   일출 습도   804 non-null    float64\n",
      " 8   일출 기압   804 non-null    float64\n",
      " 9   일출 전운량  804 non-null    float64\n",
      " 10  일교차     804 non-null    float64\n",
      "dtypes: float64(11)\n",
      "memory usage: 75.4 KB\n"
     ]
    }
   ],
   "source": [
    "df.info()"
   ]
  },
  {
   "cell_type": "code",
   "execution_count": 7,
   "id": "6a74f805",
   "metadata": {},
   "outputs": [
    {
     "name": "stdout",
     "output_type": "stream",
     "text": [
      "(643, 10) (161, 10) (643,) (161,)\n"
     ]
    }
   ],
   "source": [
    "from sklearn.model_selection import train_test_split\n",
    "\n",
    "feature_columns =list(df.columns.difference(['운해 여부']))\n",
    "\n",
    "X = df[feature_columns]\n",
    "y = df['운해 여부']\n",
    "\n",
    "train_x, test_x, train_y, test_y = train_test_split(X,y,stratify=y, test_size=0.2, random_state=42)\n",
    "\n",
    "print(train_x.shape, test_x.shape, train_y.shape, test_y.shape)"
   ]
  },
  {
   "cell_type": "code",
   "execution_count": 8,
   "id": "6c06c444",
   "metadata": {},
   "outputs": [
    {
     "name": "stdout",
     "output_type": "stream",
     "text": [
      "<class 'pandas.core.series.Series'>\n",
      "Int64Index: 161 entries, 296 to 726\n",
      "Series name: 운해 여부\n",
      "Non-Null Count  Dtype  \n",
      "--------------  -----  \n",
      "161 non-null    float64\n",
      "dtypes: float64(1)\n",
      "memory usage: 2.5 KB\n"
     ]
    }
   ],
   "source": [
    "test_y.info()"
   ]
  },
  {
   "cell_type": "markdown",
   "id": "8d442a8d",
   "metadata": {},
   "source": [
    "## Adaboost\n",
    "이전 학습기가 잘못 예측한 샘플에 가중치를 부여하여 다음 학습기를 학습합니다. 오분류된 샘플에 더 집중하여 학습기를 조정\n",
    "\n",
    "오분류된 샘플에 대해 가중치를 부여하고, 다음 학습기의 오차를 최소화하는 방향으로 학습"
   ]
  },
  {
   "cell_type": "code",
   "execution_count": 21,
   "id": "d2312dae",
   "metadata": {},
   "outputs": [
    {
     "name": "stderr",
     "output_type": "stream",
     "text": [
      "C:\\Users\\leeji\\anaconda3\\lib\\site-packages\\sklearn\\ensemble\\_base.py:166: FutureWarning: `base_estimator` was renamed to `estimator` in version 1.2 and will be removed in 1.4.\n",
      "  warnings.warn(\n"
     ]
    },
    {
     "name": "stdout",
     "output_type": "stream",
     "text": [
      "0.6956521739130435\n"
     ]
    }
   ],
   "source": [
    "from sklearn.ensemble import AdaBoostClassifier\n",
    "from sklearn.tree import DecisionTreeClassifier\n",
    "from sklearn.metrics import accuracy_score\n",
    "\n",
    "tree_model =DecisionTreeClassifier(max_depth=1)\n",
    "clf =AdaBoostClassifier(base_estimator = tree_model, n_estimators =1000, random_state=0)\n",
    "clf.fit(train_x, train_y)\n",
    "pred=clf.predict(test_x)\n",
    "print(accuracy_score(test_y, pred))"
   ]
  },
  {
   "cell_type": "markdown",
   "id": "b18b12de",
   "metadata": {},
   "source": [
    "## GradientBoost\n",
    "\n",
    "이전 학습기의 잔차(Residual)에 대해 새로운 학습기를 학습시킵니다. 잔차를 예측하는 새로운 학습기를 추가함으로써 예측 성능을 개선하는 방식\n",
    "\n",
    "예측값과 실제값 사이의 잔차(Residual)에 대해 새로운 학습기를 학습시킵니다. 새로운 학습기는 잔차를 예측하는 방향으로 학습"
   ]
  },
  {
   "cell_type": "code",
   "execution_count": 23,
   "id": "7c5c5652",
   "metadata": {},
   "outputs": [
    {
     "name": "stdout",
     "output_type": "stream",
     "text": [
      "0.6956521739130435\n"
     ]
    }
   ],
   "source": [
    "from sklearn.ensemble import GradientBoostingClassifier\n",
    "from sklearn.tree import DecisionTreeClassifier\n",
    "from math import sqrt\n",
    "\n",
    "clf2 = GradientBoostingClassifier(n_estimators=100, random_state=0)\n",
    "clf2.fit(train_x, train_y)\n",
    "pred=clf2.predict(test_x)\n",
    "print(accuracy_score(test_y, pred))"
   ]
  },
  {
   "cell_type": "markdown",
   "id": "e7ac3281",
   "metadata": {},
   "source": [
    "## 예측값 확률 구하기 "
   ]
  },
  {
   "cell_type": "code",
   "execution_count": 11,
   "id": "6a3e7f45",
   "metadata": {},
   "outputs": [
    {
     "name": "stdout",
     "output_type": "stream",
     "text": [
      "[0. 0. 1. 0. 1. 1. 0. 1. 0. 0. 0. 0. 0. 0. 0. 0. 0. 0. 0. 0. 0. 0. 0. 1.\n",
      " 0. 1. 1. 0. 1. 0. 0. 0. 1. 1. 0. 1. 0. 0. 1. 0. 1. 0. 0. 1. 0. 1. 0. 0.\n",
      " 1. 0. 0. 0. 1. 0. 0. 1. 1. 1. 0. 1. 1. 0. 0. 0. 1. 0. 0. 0. 0. 1. 0. 1.\n",
      " 0. 1. 0. 1. 1. 0. 0. 0. 0. 0. 0. 1. 0. 1. 1. 0. 1. 0. 0. 0. 0. 0. 1. 0.\n",
      " 0. 0. 0. 1. 0. 0. 0. 1. 0. 0. 0. 0. 0. 0. 1. 1. 0. 0. 1. 1. 0. 0. 0. 1.\n",
      " 0. 0. 0. 1. 0. 1. 0. 1. 0. 1. 0. 0. 1. 1. 0. 1. 0. 0. 0. 1. 0. 0. 0. 0.\n",
      " 0. 0. 0. 1. 0. 1. 0. 1. 0. 0. 1. 0. 0. 0. 0. 0. 1.]\n"
     ]
    }
   ],
   "source": [
    "print(pred)"
   ]
  },
  {
   "cell_type": "code",
   "execution_count": 12,
   "id": "e6f1e686",
   "metadata": {},
   "outputs": [
    {
     "data": {
      "text/plain": [
       "pandas.core.series.Series"
      ]
     },
     "execution_count": 12,
     "metadata": {},
     "output_type": "execute_result"
    }
   ],
   "source": [
    "id=test_x.index\n",
    "type(id)\n",
    "id=pd.Series(id)\n",
    "type(id)"
   ]
  },
  {
   "cell_type": "code",
   "execution_count": 13,
   "id": "ff0702d4",
   "metadata": {},
   "outputs": [],
   "source": [
    "pred_proba = clf2.predict_proba(test_x)[:, 1]\n"
   ]
  },
  {
   "cell_type": "code",
   "execution_count": 14,
   "id": "59c216cb",
   "metadata": {},
   "outputs": [
    {
     "data": {
      "text/plain": [
       "numpy.ndarray"
      ]
     },
     "execution_count": 14,
     "metadata": {},
     "output_type": "execute_result"
    }
   ],
   "source": [
    "type(pred_proba)"
   ]
  },
  {
   "cell_type": "code",
   "execution_count": 15,
   "id": "4aa781bf",
   "metadata": {},
   "outputs": [],
   "source": [
    "#pred_proba=pd.Series(pred_proba)"
   ]
  },
  {
   "cell_type": "markdown",
   "id": "ffac294a",
   "metadata": {},
   "source": [
    "testy=test_y.values\n",
    "print(testy)\n",
    "testy=pd.Series(test_y)\n",
    "print(type(testy))\n",
    "print(testy.shape)"
   ]
  },
  {
   "cell_type": "markdown",
   "id": "0e0f8e16",
   "metadata": {},
   "source": [
    "testy=testy.set_index()"
   ]
  },
  {
   "cell_type": "code",
   "execution_count": 16,
   "id": "0cd56805",
   "metadata": {},
   "outputs": [
    {
     "name": "stdout",
     "output_type": "stream",
     "text": [
      "[0.20072925 0.47859302 0.81289849 0.33699391 0.81484502 0.56186741\n",
      " 0.03425377 0.84967841 0.31615855 0.13145943 0.03762176 0.23993562\n",
      " 0.13834115 0.17130027 0.4859871  0.1217817  0.16131055 0.16300897\n",
      " 0.11791936 0.09868248 0.11329102 0.03148094 0.1566909  0.55312174\n",
      " 0.07469835 0.96672214 0.65581999 0.297486   0.64763221 0.22878391\n",
      " 0.04062652 0.3991989  0.69137807 0.76645922 0.34087371 0.62950829\n",
      " 0.41904788 0.0931898  0.61506438 0.11851825 0.55914406 0.24517662\n",
      " 0.11851825 0.86131856 0.14843075 0.81417337 0.07235754 0.03976495\n",
      " 0.54211515 0.14553262 0.48168851 0.33537406 0.77797366 0.22986471\n",
      " 0.43890575 0.74442279 0.76359946 0.67760206 0.13224727 0.77389575\n",
      " 0.64657633 0.24517662 0.35321475 0.15925715 0.87612355 0.06891695\n",
      " 0.04121358 0.2769243  0.13834115 0.72288907 0.24295047 0.93601797\n",
      " 0.12236315 0.52780771 0.28217654 0.73245413 0.66428423 0.23031768\n",
      " 0.20518981 0.06259204 0.26572087 0.29397313 0.03024195 0.73235701\n",
      " 0.24295047 0.54211515 0.73129693 0.0669018  0.70429865 0.16711232\n",
      " 0.02375365 0.22413335 0.41383991 0.24971262 0.64118561 0.38366005\n",
      " 0.33652499 0.36548264 0.2434725  0.76820989 0.26950877 0.08971935\n",
      " 0.04164467 0.57726884 0.06985318 0.02353371 0.03872677 0.20462449\n",
      " 0.2962697  0.45216031 0.60310118 0.55938458 0.06564848 0.10056006\n",
      " 0.73295639 0.52244838 0.09278248 0.1088209  0.39969693 0.57291653\n",
      " 0.37643857 0.10940119 0.38386967 0.66571193 0.06226957 0.74056572\n",
      " 0.18939027 0.65978549 0.38523103 0.81289849 0.10339596 0.39758002\n",
      " 0.50131881 0.69562    0.31514075 0.70147749 0.26517417 0.05461136\n",
      " 0.21973151 0.56480365 0.08775196 0.02858047 0.43557074 0.36322305\n",
      " 0.44033317 0.09642877 0.426062   0.57310057 0.15150935 0.64770958\n",
      " 0.21681601 0.67535985 0.4334455  0.43747542 0.59360305 0.477026\n",
      " 0.26517417 0.48944815 0.28567008 0.19167195 0.66767271]\n",
      "<class 'pandas.core.series.Series'>\n",
      "(161,)\n"
     ]
    }
   ],
   "source": [
    "print(pred_proba)\n",
    "pred_proba=pd.Series(pred_proba)\n",
    "print(type(pred_proba))\n",
    "print(pred_proba.shape)"
   ]
  },
  {
   "cell_type": "markdown",
   "id": "0b8302a6",
   "metadata": {},
   "source": [
    "result = pd.concat([pred_proba, testy])\n",
    "result"
   ]
  },
  {
   "cell_type": "markdown",
   "id": "43268baa",
   "metadata": {},
   "source": [
    "## 데이터 정규화 min-max"
   ]
  },
  {
   "cell_type": "code",
   "execution_count": 18,
   "id": "2cf457e9",
   "metadata": {},
   "outputs": [
    {
     "name": "stdout",
     "output_type": "stream",
     "text": [
      "     운해 여부     전날 기온  전날 강수량     전날 습도     전날 기압     일출 기온     일출 풍속  \\\n",
      "0      1.0  0.497717     0.0  0.811765  0.698236  0.468750  0.000000   \n",
      "1      1.0  0.568493     0.0  0.894118  0.798514  0.604911  0.119403   \n",
      "2      1.0  0.641553     0.0  0.847059  0.697307  0.622768  0.358209   \n",
      "3      1.0  0.593607     0.0  0.800000  0.669452  0.573661  0.373134   \n",
      "4      1.0  0.404110     0.0  1.000000  0.567317  0.390625  0.000000   \n",
      "..     ...       ...     ...       ...       ...       ...       ...   \n",
      "801    1.0  0.913242     0.0  0.882353  0.593315  0.935268  0.000000   \n",
      "802    0.0  0.118721     0.0  0.870588  0.145775  0.104911  0.044776   \n",
      "803    0.0  0.262557     0.0  0.541176  0.766017  0.241071  0.089552   \n",
      "804    0.0  0.559361     0.0  0.717647  0.831012  0.569196  0.044776   \n",
      "805    0.0  0.251142     0.0  0.682353  0.775302  0.267857  0.000000   \n",
      "\n",
      "        일출 습도     일출 기압  일출 전운량       일교차  \n",
      "0    0.913580  0.723481     0.0  0.432836  \n",
      "1    0.901235  0.808704     0.7  0.656716  \n",
      "2    0.888889  0.720762     0.7  0.477612  \n",
      "3    0.839506  0.686310     0.0  0.470149  \n",
      "4    1.000000  0.597461     1.0  0.477612  \n",
      "..        ...       ...     ...       ...  \n",
      "801  0.876543  0.603808     0.0  0.634328  \n",
      "802  0.839506  0.168631     0.0  0.455224  \n",
      "803  0.654321  0.775159     0.0  0.440299  \n",
      "804  0.814815  0.838622     0.0  0.567164  \n",
      "805  0.790123  0.784225     0.0  0.567164  \n",
      "\n",
      "[804 rows x 11 columns]\n"
     ]
    },
    {
     "name": "stderr",
     "output_type": "stream",
     "text": [
      "C:\\Users\\leeji\\AppData\\Local\\Temp\\ipykernel_14704\\3720505129.py:8: SettingWithCopyWarning: \n",
      "A value is trying to be set on a copy of a slice from a DataFrame.\n",
      "Try using .loc[row_indexer,col_indexer] = value instead\n",
      "\n",
      "See the caveats in the documentation: https://pandas.pydata.org/pandas-docs/stable/user_guide/indexing.html#returning-a-view-versus-a-copy\n",
      "  df[i] = scaler.fit_transform(df[[i]])\n",
      "C:\\Users\\leeji\\AppData\\Local\\Temp\\ipykernel_14704\\3720505129.py:8: SettingWithCopyWarning: \n",
      "A value is trying to be set on a copy of a slice from a DataFrame.\n",
      "Try using .loc[row_indexer,col_indexer] = value instead\n",
      "\n",
      "See the caveats in the documentation: https://pandas.pydata.org/pandas-docs/stable/user_guide/indexing.html#returning-a-view-versus-a-copy\n",
      "  df[i] = scaler.fit_transform(df[[i]])\n",
      "C:\\Users\\leeji\\AppData\\Local\\Temp\\ipykernel_14704\\3720505129.py:8: SettingWithCopyWarning: \n",
      "A value is trying to be set on a copy of a slice from a DataFrame.\n",
      "Try using .loc[row_indexer,col_indexer] = value instead\n",
      "\n",
      "See the caveats in the documentation: https://pandas.pydata.org/pandas-docs/stable/user_guide/indexing.html#returning-a-view-versus-a-copy\n",
      "  df[i] = scaler.fit_transform(df[[i]])\n",
      "C:\\Users\\leeji\\AppData\\Local\\Temp\\ipykernel_14704\\3720505129.py:8: SettingWithCopyWarning: \n",
      "A value is trying to be set on a copy of a slice from a DataFrame.\n",
      "Try using .loc[row_indexer,col_indexer] = value instead\n",
      "\n",
      "See the caveats in the documentation: https://pandas.pydata.org/pandas-docs/stable/user_guide/indexing.html#returning-a-view-versus-a-copy\n",
      "  df[i] = scaler.fit_transform(df[[i]])\n",
      "C:\\Users\\leeji\\AppData\\Local\\Temp\\ipykernel_14704\\3720505129.py:8: SettingWithCopyWarning: \n",
      "A value is trying to be set on a copy of a slice from a DataFrame.\n",
      "Try using .loc[row_indexer,col_indexer] = value instead\n",
      "\n",
      "See the caveats in the documentation: https://pandas.pydata.org/pandas-docs/stable/user_guide/indexing.html#returning-a-view-versus-a-copy\n",
      "  df[i] = scaler.fit_transform(df[[i]])\n",
      "C:\\Users\\leeji\\AppData\\Local\\Temp\\ipykernel_14704\\3720505129.py:8: SettingWithCopyWarning: \n",
      "A value is trying to be set on a copy of a slice from a DataFrame.\n",
      "Try using .loc[row_indexer,col_indexer] = value instead\n",
      "\n",
      "See the caveats in the documentation: https://pandas.pydata.org/pandas-docs/stable/user_guide/indexing.html#returning-a-view-versus-a-copy\n",
      "  df[i] = scaler.fit_transform(df[[i]])\n",
      "C:\\Users\\leeji\\AppData\\Local\\Temp\\ipykernel_14704\\3720505129.py:8: SettingWithCopyWarning: \n",
      "A value is trying to be set on a copy of a slice from a DataFrame.\n",
      "Try using .loc[row_indexer,col_indexer] = value instead\n",
      "\n",
      "See the caveats in the documentation: https://pandas.pydata.org/pandas-docs/stable/user_guide/indexing.html#returning-a-view-versus-a-copy\n",
      "  df[i] = scaler.fit_transform(df[[i]])\n",
      "C:\\Users\\leeji\\AppData\\Local\\Temp\\ipykernel_14704\\3720505129.py:8: SettingWithCopyWarning: \n",
      "A value is trying to be set on a copy of a slice from a DataFrame.\n",
      "Try using .loc[row_indexer,col_indexer] = value instead\n",
      "\n",
      "See the caveats in the documentation: https://pandas.pydata.org/pandas-docs/stable/user_guide/indexing.html#returning-a-view-versus-a-copy\n",
      "  df[i] = scaler.fit_transform(df[[i]])\n",
      "C:\\Users\\leeji\\AppData\\Local\\Temp\\ipykernel_14704\\3720505129.py:8: SettingWithCopyWarning: \n",
      "A value is trying to be set on a copy of a slice from a DataFrame.\n",
      "Try using .loc[row_indexer,col_indexer] = value instead\n",
      "\n",
      "See the caveats in the documentation: https://pandas.pydata.org/pandas-docs/stable/user_guide/indexing.html#returning-a-view-versus-a-copy\n",
      "  df[i] = scaler.fit_transform(df[[i]])\n",
      "C:\\Users\\leeji\\AppData\\Local\\Temp\\ipykernel_14704\\3720505129.py:8: SettingWithCopyWarning: \n",
      "A value is trying to be set on a copy of a slice from a DataFrame.\n",
      "Try using .loc[row_indexer,col_indexer] = value instead\n",
      "\n",
      "See the caveats in the documentation: https://pandas.pydata.org/pandas-docs/stable/user_guide/indexing.html#returning-a-view-versus-a-copy\n",
      "  df[i] = scaler.fit_transform(df[[i]])\n"
     ]
    }
   ],
   "source": [
    "from sklearn.preprocessing import MinMaxScaler\n",
    "\n",
    "# min-max 정규화 객체 생성\n",
    "scaler = MinMaxScaler()\n",
    "\n",
    "# min-max 정규화 적용\n",
    "for i in feature_columns:\n",
    "    df[i] = scaler.fit_transform(df[[i]])\n",
    "\n",
    "print(df)"
   ]
  },
  {
   "cell_type": "code",
   "execution_count": 19,
   "id": "134385de",
   "metadata": {},
   "outputs": [
    {
     "name": "stderr",
     "output_type": "stream",
     "text": [
      "C:\\Users\\leeji\\anaconda3\\lib\\site-packages\\sklearn\\ensemble\\_base.py:166: FutureWarning: `base_estimator` was renamed to `estimator` in version 1.2 and will be removed in 1.4.\n",
      "  warnings.warn(\n"
     ]
    },
    {
     "name": "stdout",
     "output_type": "stream",
     "text": [
      "0.6956521739130435\n"
     ]
    }
   ],
   "source": [
    "from sklearn.ensemble import AdaBoostClassifier\n",
    "from sklearn.tree import DecisionTreeClassifier\n",
    "from sklearn.metrics import accuracy_score\n",
    "\n",
    "tree_model =DecisionTreeClassifier(max_depth=1)\n",
    "clf =AdaBoostClassifier(base_estimator = tree_model, n_estimators =1000, random_state=0)\n",
    "clf.fit(train_x, train_y)\n",
    "pred=clf.predict(test_x)\n",
    "print(accuracy_score(test_y, pred))"
   ]
  },
  {
   "cell_type": "code",
   "execution_count": 20,
   "id": "6d143d6a",
   "metadata": {},
   "outputs": [
    {
     "name": "stdout",
     "output_type": "stream",
     "text": [
      "0.6832298136645962\n"
     ]
    }
   ],
   "source": [
    "from sklearn.ensemble import GradientBoostingClassifier\n",
    "from sklearn.tree import DecisionTreeClassifier\n",
    "from math import sqrt\n",
    "\n",
    "clf2 = GradientBoostingClassifier(n_estimators=1000, random_state=0)\n",
    "clf2.fit(train_x, train_y)\n",
    "pred=clf2.predict(test_x)\n",
    "print(accuracy_score(test_y, pred))"
   ]
  }
 ],
 "metadata": {
  "kernelspec": {
   "display_name": "Python 3 (ipykernel)",
   "language": "python",
   "name": "python3"
  },
  "language_info": {
   "codemirror_mode": {
    "name": "ipython",
    "version": 3
   },
   "file_extension": ".py",
   "mimetype": "text/x-python",
   "name": "python",
   "nbconvert_exporter": "python",
   "pygments_lexer": "ipython3",
   "version": "3.8.8"
  }
 },
 "nbformat": 4,
 "nbformat_minor": 5
}
